{
 "cells": [
  {
   "cell_type": "markdown",
   "id": "8c31fc34",
   "metadata": {},
   "source": [
    "# Trabalho de Deep Learning - FIAP - Professor Felipe Teodoro"
   ]
  },
  {
   "cell_type": "markdown",
   "id": "2dcb25f6",
   "metadata": {},
   "source": [
    "Aluno: Rodrigo de Miranda Videira  <br>\n",
    "RM: RM340347"
   ]
  },
  {
   "cell_type": "markdown",
   "id": "0ab93d7b",
   "metadata": {},
   "source": [
    "____"
   ]
  },
  {
   "cell_type": "markdown",
   "id": "2ef45f08",
   "metadata": {},
   "source": [
    "## Exercício 1"
   ]
  },
  {
   "cell_type": "markdown",
   "id": "3b510cc8",
   "metadata": {},
   "source": [
    "## Imports"
   ]
  },
  {
   "cell_type": "code",
   "execution_count": 368,
   "id": "164da54f",
   "metadata": {},
   "outputs": [],
   "source": [
    "#!pip install tensorflow"
   ]
  },
  {
   "cell_type": "code",
   "execution_count": 2,
   "id": "9fcc3e11",
   "metadata": {},
   "outputs": [],
   "source": [
    "import pandas as pd\n",
    "import numpy as np\n",
    "import seaborn as sns\n",
    "import matplotlib.pyplot as plt\n",
    "\n",
    "from sklearn import datasets\n",
    "from sklearn.model_selection import train_test_split\n",
    "\n",
    "import tensorflow as tf"
   ]
  },
  {
   "cell_type": "markdown",
   "id": "3efa493c",
   "metadata": {},
   "source": [
    "### a) IRIS"
   ]
  },
  {
   "cell_type": "code",
   "execution_count": 370,
   "id": "e18261e2",
   "metadata": {},
   "outputs": [
    {
     "data": {
      "text/plain": [
       "dict_keys(['data', 'target', 'frame', 'target_names', 'DESCR', 'feature_names', 'filename', 'data_module'])"
      ]
     },
     "execution_count": 370,
     "metadata": {},
     "output_type": "execute_result"
    }
   ],
   "source": [
    "iris = datasets.load_iris()\n",
    "iris.keys()"
   ]
  },
  {
   "cell_type": "code",
   "execution_count": 371,
   "id": "0f431747",
   "metadata": {},
   "outputs": [
    {
     "name": "stdout",
     "output_type": "stream",
     "text": [
      "Número de classes = 3 e número de features = 4\n"
     ]
    }
   ],
   "source": [
    "num_classes = len(iris.target_names)\n",
    "num_features = len(iris.feature_names)\n",
    "\n",
    "print(f\"Número de classes = {num_classes} e número de features = {num_features}\")"
   ]
  },
  {
   "cell_type": "code",
   "execution_count": 372,
   "id": "e7e3e6c7",
   "metadata": {},
   "outputs": [],
   "source": [
    "X_train, X_test, y_train, y_test = train_test_split(iris.data, iris.target, test_size=0.30, random_state=42)"
   ]
  },
  {
   "cell_type": "code",
   "execution_count": 373,
   "id": "d227dd8e",
   "metadata": {},
   "outputs": [],
   "source": [
    "y_train = to_categorical(y_train, num_classes)\n",
    "y_test = to_categorical(y_test, num_classes)"
   ]
  },
  {
   "cell_type": "code",
   "execution_count": 374,
   "id": "f2ac3888",
   "metadata": {},
   "outputs": [
    {
     "data": {
      "text/plain": [
       "(105, 4)"
      ]
     },
     "execution_count": 374,
     "metadata": {},
     "output_type": "execute_result"
    }
   ],
   "source": [
    "X_train.shape"
   ]
  },
  {
   "cell_type": "code",
   "execution_count": 375,
   "id": "7b88de40",
   "metadata": {},
   "outputs": [],
   "source": [
    "iris_classificacao = tf.keras.Sequential();"
   ]
  },
  {
   "cell_type": "code",
   "execution_count": 376,
   "id": "52454c2a",
   "metadata": {},
   "outputs": [],
   "source": [
    "iris_classificacao.add(tf.keras.layers.Dense(activation='relu', input_dim=num_features, units=5, kernel_initializer='uniform'))"
   ]
  },
  {
   "cell_type": "code",
   "execution_count": 377,
   "id": "8c983b85",
   "metadata": {},
   "outputs": [],
   "source": [
    "iris_classificacao.add(tf.keras.layers.Dense(activation='sigmoid', units=num_classes, kernel_initializer='uniform'))"
   ]
  },
  {
   "cell_type": "code",
   "execution_count": 378,
   "id": "9a811288",
   "metadata": {},
   "outputs": [],
   "source": [
    "iris_classificacao.compile(loss='categorical_crossentropy', optimizer='adam', metrics=['accuracy'])"
   ]
  },
  {
   "cell_type": "code",
   "execution_count": 379,
   "id": "cd34a0dd",
   "metadata": {},
   "outputs": [],
   "source": [
    "checkpointer = tf.keras.callbacks.ModelCheckpoint(filepath='iris.hdf5', verbose=1,  save_best_only=True, monitor='val_accuracy')"
   ]
  },
  {
   "cell_type": "code",
   "execution_count": 380,
   "id": "d73b4c51",
   "metadata": {},
   "outputs": [
    {
     "name": "stdout",
     "output_type": "stream",
     "text": [
      "Epoch 1/50\n",
      " 1/42 [..............................] - ETA: 12s - loss: 1.1007 - accuracy: 0.0000e+00\n",
      "Epoch 1: val_accuracy improved from -inf to 0.47619, saving model to iris.hdf5\n",
      "42/42 [==============================] - 1s 5ms/step - loss: 1.0988 - accuracy: 0.3214 - val_loss: 1.0916 - val_accuracy: 0.4762\n",
      "Epoch 2/50\n",
      "24/42 [================>.............] - ETA: 0s - loss: 1.0939 - accuracy: 0.3542    \n",
      "Epoch 2: val_accuracy did not improve from 0.47619\n",
      "42/42 [==============================] - 0s 3ms/step - loss: 1.0953 - accuracy: 0.3214 - val_loss: 1.0839 - val_accuracy: 0.4762\n",
      "Epoch 3/50\n",
      " 1/42 [..............................] - ETA: 0s - loss: 1.0847 - accuracy: 0.5000\n",
      "Epoch 3: val_accuracy did not improve from 0.47619\n",
      "42/42 [==============================] - 0s 2ms/step - loss: 1.0895 - accuracy: 0.3214 - val_loss: 1.0710 - val_accuracy: 0.4762\n",
      "Epoch 4/50\n",
      " 1/42 [..............................] - ETA: 0s - loss: 1.0693 - accuracy: 0.5000\n",
      "Epoch 4: val_accuracy did not improve from 0.47619\n",
      "42/42 [==============================] - 0s 2ms/step - loss: 1.0759 - accuracy: 0.3214 - val_loss: 1.0446 - val_accuracy: 0.4762\n",
      "Epoch 5/50\n",
      "24/42 [================>.............] - ETA: 0s - loss: 1.0688 - accuracy: 0.2292    \n",
      "Epoch 5: val_accuracy improved from 0.47619 to 0.57143, saving model to iris.hdf5\n",
      "42/42 [==============================] - 0s 3ms/step - loss: 1.0519 - accuracy: 0.3452 - val_loss: 1.0096 - val_accuracy: 0.5714\n",
      "Epoch 6/50\n",
      "21/42 [==============>...............] - ETA: 0s - loss: 1.0390 - accuracy: 0.5952    \n",
      "Epoch 6: val_accuracy improved from 0.57143 to 0.66667, saving model to iris.hdf5\n",
      "42/42 [==============================] - 0s 3ms/step - loss: 1.0187 - accuracy: 0.5952 - val_loss: 0.9653 - val_accuracy: 0.6667\n",
      "Epoch 7/50\n",
      "24/42 [================>.............] - ETA: 0s - loss: 0.9811 - accuracy: 0.6250\n",
      "Epoch 7: val_accuracy did not improve from 0.66667\n",
      "42/42 [==============================] - 0s 3ms/step - loss: 0.9744 - accuracy: 0.6429 - val_loss: 0.9108 - val_accuracy: 0.6667\n",
      "Epoch 8/50\n",
      "37/42 [=========================>....] - ETA: 0s - loss: 0.9299 - accuracy: 0.6216\n",
      "Epoch 8: val_accuracy did not improve from 0.66667\n",
      "42/42 [==============================] - 0s 2ms/step - loss: 0.9243 - accuracy: 0.6429 - val_loss: 0.8679 - val_accuracy: 0.6667\n",
      "Epoch 9/50\n",
      "40/42 [===========================>..] - ETA: 0s - loss: 0.8744 - accuracy: 0.6375    \n",
      "Epoch 9: val_accuracy did not improve from 0.66667\n",
      "42/42 [==============================] - 0s 2ms/step - loss: 0.8708 - accuracy: 0.6429 - val_loss: 0.8229 - val_accuracy: 0.6667\n",
      "Epoch 10/50\n",
      "37/42 [=========================>....] - ETA: 0s - loss: 0.8287 - accuracy: 0.6216\n",
      "Epoch 10: val_accuracy did not improve from 0.66667\n",
      "42/42 [==============================] - 0s 2ms/step - loss: 0.8217 - accuracy: 0.6429 - val_loss: 0.7778 - val_accuracy: 0.6667\n",
      "Epoch 11/50\n",
      "38/42 [==========================>...] - ETA: 0s - loss: 0.7704 - accuracy: 0.6842\n",
      "Epoch 11: val_accuracy did not improve from 0.66667\n",
      "42/42 [==============================] - 0s 4ms/step - loss: 0.7726 - accuracy: 0.6667 - val_loss: 0.7253 - val_accuracy: 0.6667\n",
      "Epoch 12/50\n",
      "37/42 [=========================>....] - ETA: 0s - loss: 0.7306 - accuracy: 0.6892\n",
      "Epoch 12: val_accuracy improved from 0.66667 to 0.71429, saving model to iris.hdf5\n",
      "42/42 [==============================] - 0s 6ms/step - loss: 0.7243 - accuracy: 0.6905 - val_loss: 0.6995 - val_accuracy: 0.7143\n",
      "Epoch 13/50\n",
      "41/42 [============================>.] - ETA: 0s - loss: 0.6873 - accuracy: 0.6829\n",
      "Epoch 13: val_accuracy improved from 0.71429 to 0.76190, saving model to iris.hdf5\n",
      "42/42 [==============================] - 0s 4ms/step - loss: 0.6832 - accuracy: 0.6905 - val_loss: 0.6661 - val_accuracy: 0.7619\n",
      "Epoch 14/50\n",
      "36/42 [========================>.....] - ETA: 0s - loss: 0.6423 - accuracy: 0.7500\n",
      "Epoch 14: val_accuracy improved from 0.76190 to 0.85714, saving model to iris.hdf5\n",
      "42/42 [==============================] - 0s 4ms/step - loss: 0.6447 - accuracy: 0.7381 - val_loss: 0.6337 - val_accuracy: 0.8571\n",
      "Epoch 15/50\n",
      "32/42 [=====================>........] - ETA: 0s - loss: 0.6274 - accuracy: 0.7812\n",
      "Epoch 15: val_accuracy improved from 0.85714 to 0.90476, saving model to iris.hdf5\n",
      "42/42 [==============================] - 0s 4ms/step - loss: 0.6131 - accuracy: 0.8095 - val_loss: 0.6072 - val_accuracy: 0.9048\n",
      "Epoch 16/50\n",
      "37/42 [=========================>....] - ETA: 0s - loss: 0.5845 - accuracy: 0.8514\n",
      "Epoch 16: val_accuracy did not improve from 0.90476\n",
      "42/42 [==============================] - 0s 4ms/step - loss: 0.5845 - accuracy: 0.8333 - val_loss: 0.5834 - val_accuracy: 0.9048\n",
      "Epoch 17/50\n",
      "34/42 [=======================>......] - ETA: 0s - loss: 0.5511 - accuracy: 0.7647\n",
      "Epoch 17: val_accuracy did not improve from 0.90476\n",
      "42/42 [==============================] - 0s 3ms/step - loss: 0.5603 - accuracy: 0.7857 - val_loss: 0.5657 - val_accuracy: 0.9048\n",
      "Epoch 18/50\n",
      "28/42 [===================>..........] - ETA: 0s - loss: 0.5566 - accuracy: 0.8750\n",
      "Epoch 18: val_accuracy improved from 0.90476 to 0.95238, saving model to iris.hdf5\n",
      "42/42 [==============================] - 0s 3ms/step - loss: 0.5372 - accuracy: 0.8810 - val_loss: 0.5453 - val_accuracy: 0.9524\n",
      "Epoch 19/50\n",
      "24/42 [================>.............] - ETA: 0s - loss: 0.5148 - accuracy: 0.8750\n",
      "Epoch 19: val_accuracy did not improve from 0.95238\n",
      "42/42 [==============================] - 0s 3ms/step - loss: 0.5177 - accuracy: 0.8571 - val_loss: 0.5290 - val_accuracy: 0.9524\n",
      "Epoch 20/50\n",
      "26/42 [=================>............] - ETA: 0s - loss: 0.4968 - accuracy: 0.8846\n",
      "Epoch 20: val_accuracy improved from 0.95238 to 1.00000, saving model to iris.hdf5\n",
      "42/42 [==============================] - 0s 3ms/step - loss: 0.5000 - accuracy: 0.8571 - val_loss: 0.5179 - val_accuracy: 1.0000\n",
      "Epoch 21/50\n",
      "24/42 [================>.............] - ETA: 0s - loss: 0.4926 - accuracy: 0.9375\n",
      "Epoch 21: val_accuracy did not improve from 1.00000\n",
      "42/42 [==============================] - 0s 3ms/step - loss: 0.4853 - accuracy: 0.9524 - val_loss: 0.5072 - val_accuracy: 1.0000\n",
      "Epoch 22/50\n",
      "32/42 [=====================>........] - ETA: 0s - loss: 0.5094 - accuracy: 0.9375\n",
      "Epoch 22: val_accuracy did not improve from 1.00000\n",
      "42/42 [==============================] - 0s 3ms/step - loss: 0.4707 - accuracy: 0.9405 - val_loss: 0.4870 - val_accuracy: 1.0000\n",
      "Epoch 23/50\n",
      " 1/42 [..............................] - ETA: 0s - loss: 0.6776 - accuracy: 1.0000\n",
      "Epoch 23: val_accuracy did not improve from 1.00000\n",
      "42/42 [==============================] - 0s 2ms/step - loss: 0.4591 - accuracy: 0.9167 - val_loss: 0.4756 - val_accuracy: 1.0000\n",
      "Epoch 24/50\n",
      "22/42 [==============>...............] - ETA: 0s - loss: 0.4880 - accuracy: 0.9545\n",
      "Epoch 24: val_accuracy did not improve from 1.00000\n",
      "42/42 [==============================] - 0s 3ms/step - loss: 0.4461 - accuracy: 0.9643 - val_loss: 0.4661 - val_accuracy: 1.0000\n",
      "Epoch 25/50\n",
      "38/42 [==========================>...] - ETA: 0s - loss: 0.4356 - accuracy: 0.9474\n",
      "Epoch 25: val_accuracy did not improve from 1.00000\n",
      "42/42 [==============================] - 0s 2ms/step - loss: 0.4334 - accuracy: 0.9405 - val_loss: 0.4535 - val_accuracy: 1.0000\n",
      "Epoch 26/50\n",
      " 1/42 [..............................] - ETA: 0s - loss: 0.5786 - accuracy: 1.0000\n",
      "Epoch 26: val_accuracy did not improve from 1.00000\n",
      "42/42 [==============================] - 0s 2ms/step - loss: 0.4226 - accuracy: 0.9405 - val_loss: 0.4463 - val_accuracy: 1.0000\n",
      "Epoch 27/50\n",
      "39/42 [==========================>...] - ETA: 0s - loss: 0.4220 - accuracy: 0.9487\n",
      "Epoch 27: val_accuracy did not improve from 1.00000\n",
      "42/42 [==============================] - 0s 2ms/step - loss: 0.4136 - accuracy: 0.9524 - val_loss: 0.4376 - val_accuracy: 1.0000\n",
      "Epoch 28/50\n",
      "42/42 [==============================] - ETA: 0s - loss: 0.4047 - accuracy: 0.9524\n",
      "Epoch 28: val_accuracy did not improve from 1.00000\n",
      "42/42 [==============================] - 0s 2ms/step - loss: 0.4047 - accuracy: 0.9524 - val_loss: 0.4237 - val_accuracy: 1.0000\n",
      "Epoch 29/50\n",
      " 1/42 [..............................] - ETA: 0s - loss: 0.3749 - accuracy: 1.0000\n",
      "Epoch 29: val_accuracy did not improve from 1.00000\n",
      "42/42 [==============================] - 0s 2ms/step - loss: 0.3989 - accuracy: 0.9524 - val_loss: 0.4088 - val_accuracy: 1.0000\n"
     ]
    },
    {
     "name": "stdout",
     "output_type": "stream",
     "text": [
      "Epoch 30/50\n",
      " 1/42 [..............................] - ETA: 0s - loss: 0.4782 - accuracy: 1.0000\n",
      "Epoch 30: val_accuracy did not improve from 1.00000\n",
      "42/42 [==============================] - 0s 2ms/step - loss: 0.3870 - accuracy: 0.9405 - val_loss: 0.4153 - val_accuracy: 1.0000\n",
      "Epoch 31/50\n",
      " 1/42 [..............................] - ETA: 0s - loss: 0.4895 - accuracy: 1.0000\n",
      "Epoch 31: val_accuracy did not improve from 1.00000\n",
      "42/42 [==============================] - 0s 2ms/step - loss: 0.3806 - accuracy: 0.9643 - val_loss: 0.4031 - val_accuracy: 1.0000\n",
      "Epoch 32/50\n",
      "36/42 [========================>.....] - ETA: 0s - loss: 0.3704 - accuracy: 0.9583\n",
      "Epoch 32: val_accuracy did not improve from 1.00000\n",
      "42/42 [==============================] - 0s 3ms/step - loss: 0.3717 - accuracy: 0.9524 - val_loss: 0.3919 - val_accuracy: 1.0000\n",
      "Epoch 33/50\n",
      "42/42 [==============================] - ETA: 0s - loss: 0.3653 - accuracy: 0.9524\n",
      "Epoch 33: val_accuracy did not improve from 1.00000\n",
      "42/42 [==============================] - 0s 2ms/step - loss: 0.3653 - accuracy: 0.9524 - val_loss: 0.3852 - val_accuracy: 1.0000\n",
      "Epoch 34/50\n",
      "37/42 [=========================>....] - ETA: 0s - loss: 0.3532 - accuracy: 0.9459\n",
      "Epoch 34: val_accuracy did not improve from 1.00000\n",
      "42/42 [==============================] - 0s 2ms/step - loss: 0.3577 - accuracy: 0.9524 - val_loss: 0.3795 - val_accuracy: 1.0000\n",
      "Epoch 35/50\n",
      " 1/42 [..............................] - ETA: 0s - loss: 0.3245 - accuracy: 1.0000\n",
      "Epoch 35: val_accuracy did not improve from 1.00000\n",
      "42/42 [==============================] - 0s 2ms/step - loss: 0.3532 - accuracy: 0.9524 - val_loss: 0.3760 - val_accuracy: 1.0000\n",
      "Epoch 36/50\n",
      " 1/42 [..............................] - ETA: 0s - loss: 0.4791 - accuracy: 1.0000\n",
      "Epoch 36: val_accuracy did not improve from 1.00000\n",
      "42/42 [==============================] - 0s 2ms/step - loss: 0.3477 - accuracy: 0.9524 - val_loss: 0.3650 - val_accuracy: 1.0000\n",
      "Epoch 37/50\n",
      " 1/42 [..............................] - ETA: 0s - loss: 0.1786 - accuracy: 1.0000\n",
      "Epoch 37: val_accuracy did not improve from 1.00000\n",
      "42/42 [==============================] - 0s 2ms/step - loss: 0.3412 - accuracy: 0.9524 - val_loss: 0.3543 - val_accuracy: 1.0000\n",
      "Epoch 38/50\n",
      " 1/42 [..............................] - ETA: 0s - loss: 0.2482 - accuracy: 1.0000\n",
      "Epoch 38: val_accuracy did not improve from 1.00000\n",
      "42/42 [==============================] - 0s 2ms/step - loss: 0.3369 - accuracy: 0.9524 - val_loss: 0.3517 - val_accuracy: 1.0000\n",
      "Epoch 39/50\n",
      " 1/42 [..............................] - ETA: 0s - loss: 0.4248 - accuracy: 1.0000\n",
      "Epoch 39: val_accuracy did not improve from 1.00000\n",
      "42/42 [==============================] - 0s 2ms/step - loss: 0.3288 - accuracy: 0.9286 - val_loss: 0.3438 - val_accuracy: 1.0000\n",
      "Epoch 40/50\n",
      " 1/42 [..............................] - ETA: 0s - loss: 0.2217 - accuracy: 1.0000\n",
      "Epoch 40: val_accuracy did not improve from 1.00000\n",
      "42/42 [==============================] - 0s 2ms/step - loss: 0.3262 - accuracy: 0.9524 - val_loss: 0.3405 - val_accuracy: 1.0000\n",
      "Epoch 41/50\n",
      " 1/42 [..............................] - ETA: 0s - loss: 0.5004 - accuracy: 1.0000\n",
      "Epoch 41: val_accuracy did not improve from 1.00000\n",
      "42/42 [==============================] - 0s 2ms/step - loss: 0.3174 - accuracy: 0.9643 - val_loss: 0.3376 - val_accuracy: 1.0000\n",
      "Epoch 42/50\n",
      " 1/42 [..............................] - ETA: 0s - loss: 0.5751 - accuracy: 0.5000\n",
      "Epoch 42: val_accuracy did not improve from 1.00000\n",
      "42/42 [==============================] - 0s 2ms/step - loss: 0.3098 - accuracy: 0.9762 - val_loss: 0.3215 - val_accuracy: 1.0000\n",
      "Epoch 43/50\n",
      " 1/42 [..............................] - ETA: 0s - loss: 0.2334 - accuracy: 1.0000\n",
      "Epoch 43: val_accuracy did not improve from 1.00000\n",
      "42/42 [==============================] - 0s 2ms/step - loss: 0.3050 - accuracy: 0.9524 - val_loss: 0.3150 - val_accuracy: 1.0000\n",
      "Epoch 44/50\n",
      " 1/42 [..............................] - ETA: 0s - loss: 0.3785 - accuracy: 1.0000\n",
      "Epoch 44: val_accuracy did not improve from 1.00000\n",
      "42/42 [==============================] - 0s 2ms/step - loss: 0.3003 - accuracy: 0.9643 - val_loss: 0.3205 - val_accuracy: 1.0000\n",
      "Epoch 45/50\n",
      " 1/42 [..............................] - ETA: 0s - loss: 0.2043 - accuracy: 1.0000\n",
      "Epoch 45: val_accuracy did not improve from 1.00000\n",
      "42/42 [==============================] - 0s 2ms/step - loss: 0.2959 - accuracy: 0.9643 - val_loss: 0.3097 - val_accuracy: 1.0000\n",
      "Epoch 46/50\n",
      " 1/42 [..............................] - ETA: 0s - loss: 0.4089 - accuracy: 1.0000\n",
      "Epoch 46: val_accuracy did not improve from 1.00000\n",
      "42/42 [==============================] - 0s 2ms/step - loss: 0.2923 - accuracy: 0.9643 - val_loss: 0.2987 - val_accuracy: 1.0000\n",
      "Epoch 47/50\n",
      " 1/42 [..............................] - ETA: 0s - loss: 0.3682 - accuracy: 1.0000\n",
      "Epoch 47: val_accuracy did not improve from 1.00000\n",
      "42/42 [==============================] - 0s 2ms/step - loss: 0.2871 - accuracy: 0.9881 - val_loss: 0.2979 - val_accuracy: 1.0000\n",
      "Epoch 48/50\n",
      " 1/42 [..............................] - ETA: 0s - loss: 0.2202 - accuracy: 1.0000\n",
      "Epoch 48: val_accuracy did not improve from 1.00000\n",
      "42/42 [==============================] - 0s 2ms/step - loss: 0.2817 - accuracy: 0.9643 - val_loss: 0.2923 - val_accuracy: 1.0000\n",
      "Epoch 49/50\n",
      " 1/42 [..............................] - ETA: 0s - loss: 0.0731 - accuracy: 1.0000\n",
      "Epoch 49: val_accuracy did not improve from 1.00000\n",
      "42/42 [==============================] - 0s 2ms/step - loss: 0.2781 - accuracy: 0.9524 - val_loss: 0.2838 - val_accuracy: 1.0000\n",
      "Epoch 50/50\n",
      " 1/42 [..............................] - ETA: 0s - loss: 0.0243 - accuracy: 1.0000\n",
      "Epoch 50: val_accuracy did not improve from 1.00000\n",
      "42/42 [==============================] - 0s 2ms/step - loss: 0.2741 - accuracy: 0.9762 - val_loss: 0.2907 - val_accuracy: 1.0000\n"
     ]
    }
   ],
   "source": [
    "hist = iris_classificacao.fit(X_train, y_train, epochs=50, batch_size=2, verbose=1, validation_split=0.2, callbacks=[checkpointer])"
   ]
  },
  {
   "cell_type": "code",
   "execution_count": 381,
   "id": "ea773857",
   "metadata": {},
   "outputs": [],
   "source": [
    "iris_classificacao_best = tf.keras.models.load_model('iris.hdf5')"
   ]
  },
  {
   "cell_type": "code",
   "execution_count": 382,
   "id": "2631b21d",
   "metadata": {},
   "outputs": [
    {
     "name": "stdout",
     "output_type": "stream",
     "text": [
      "2/2 [==============================] - 0s 3ms/step - loss: 0.4240 - accuracy: 0.9778\n",
      "Resultado dos testes - Loss: 0.42397668957710266 - Accuracy: 0.9777777791023254%\n"
     ]
    }
   ],
   "source": [
    "test_results = iris_classificacao_best.evaluate(X_test, y_test, verbose=1)\n",
    "print(f'Resultado dos testes - Loss: {test_results[0]} - Accuracy: {test_results[1]}%')"
   ]
  },
  {
   "cell_type": "code",
   "execution_count": 384,
   "id": "61ec7e36",
   "metadata": {},
   "outputs": [
    {
     "data": {
      "image/png": "[encoded data removed]",
      "text/plain": [
       "<Figure size 432x288 with 1 Axes>"
      ]
     },
     "metadata": {
      "needs_background": "light"
     },
     "output_type": "display_data"
    }
   ],
   "source": [
    "plt.figure(1)\n",
    "plt.plot(hist.history['accuracy'])\n",
    "plt.plot(hist.history['val_accuracy'])\n",
    "\n",
    "# Melhor época - 20\n",
    "plt.axvline(x=20, ymin=0, ymax=1, c='green')\n",
    "\n",
    "plt.title('model accuracy')\n",
    "plt.ylabel('accuracy')\n",
    "plt.xlabel('epoch')\n",
    "plt.legend(['train', 'validation'], loc='upper left')\n",
    "plt.show()"
   ]
  },
  {
   "cell_type": "code",
   "execution_count": 420,
   "id": "2925f587",
   "metadata": {},
   "outputs": [
    {
     "data": {
      "text/plain": [
       "array([[4.7, 3.2, 1.6, 0.2]])"
      ]
     },
     "execution_count": 420,
     "metadata": {},
     "output_type": "execute_result"
    }
   ],
   "source": [
    "# Testando uma amostra\n",
    "amostra_iris = X_test[20]\n",
    "amostra_iris.reshape(1,4)"
   ]
  },
  {
   "cell_type": "code",
   "execution_count": 421,
   "id": "8178848b",
   "metadata": {},
   "outputs": [
    {
     "name": "stdout",
     "output_type": "stream",
     "text": [
      "[1. 0. 0.]\n",
      "['setosa' 'versicolor' 'virginica']\n"
     ]
    }
   ],
   "source": [
    "print(y_test[20])\n",
    "print(iris.target_names)\n",
    "\n",
    "# Classe correta - Setosa"
   ]
  },
  {
   "cell_type": "code",
   "execution_count": 422,
   "id": "b071e683",
   "metadata": {},
   "outputs": [
    {
     "name": "stdout",
     "output_type": "stream",
     "text": [
      "1/1 [==============================] - 0s 21ms/step\n"
     ]
    },
    {
     "data": {
      "text/plain": [
       "array([[0.79488534, 0.41725725, 0.14707544]], dtype=float32)"
      ]
     },
     "execution_count": 422,
     "metadata": {},
     "output_type": "execute_result"
    }
   ],
   "source": [
    "iris_classificacao_best.predict(amostra_iris.reshape(1,4))"
   ]
  },
  {
   "cell_type": "markdown",
   "id": "aa1e5d20",
   "metadata": {},
   "source": [
    "____"
   ]
  },
  {
   "cell_type": "markdown",
   "id": "79887477",
   "metadata": {},
   "source": [
    "### b) Heart Disease UCI"
   ]
  },
  {
   "cell_type": "code",
   "execution_count": 3,
   "id": "34bc90a4",
   "metadata": {},
   "outputs": [],
   "source": [
    "df_heart_disease = pd.read_csv('datasets/heart_cleveland_upload.csv')"
   ]
  },
  {
   "cell_type": "code",
   "execution_count": 4,
   "id": "a12b1127",
   "metadata": {},
   "outputs": [
    {
     "data": {
      "text/html": [
       "<div>\n",
       "<style scoped>\n",
       "    .dataframe tbody tr th:only-of-type {\n",
       "        vertical-align: middle;\n",
       "    }\n",
       "\n",
       "    .dataframe tbody tr th {\n",
       "        vertical-align: top;\n",
       "    }\n",
       "\n",
       "    .dataframe thead th {\n",
       "        text-align: right;\n",
       "    }\n",
       "</style>\n",
       "<table border=\"1\" class=\"dataframe\">\n",
       "  <thead>\n",
       "    <tr style=\"text-align: right;\">\n",
       "      <th></th>\n",
       "      <th>age</th>\n",
       "      <th>sex</th>\n",
       "      <th>cp</th>\n",
       "      <th>trestbps</th>\n",
       "      <th>chol</th>\n",
       "      <th>fbs</th>\n",
       "      <th>restecg</th>\n",
       "      <th>thalach</th>\n",
       "      <th>exang</th>\n",
       "      <th>oldpeak</th>\n",
       "      <th>slope</th>\n",
       "      <th>ca</th>\n",
       "      <th>thal</th>\n",
       "      <th>condition</th>\n",
       "    </tr>\n",
       "  </thead>\n",
       "  <tbody>\n",
       "    <tr>\n",
       "      <th>0</th>\n",
       "      <td>69</td>\n",
       "      <td>1</td>\n",
       "      <td>0</td>\n",
       "      <td>160</td>\n",
       "      <td>234</td>\n",
       "      <td>1</td>\n",
       "      <td>2</td>\n",
       "      <td>131</td>\n",
       "      <td>0</td>\n",
       "      <td>0.1</td>\n",
       "      <td>1</td>\n",
       "      <td>1</td>\n",
       "      <td>0</td>\n",
       "      <td>0</td>\n",
       "    </tr>\n",
       "    <tr>\n",
       "      <th>1</th>\n",
       "      <td>69</td>\n",
       "      <td>0</td>\n",
       "      <td>0</td>\n",
       "      <td>140</td>\n",
       "      <td>239</td>\n",
       "      <td>0</td>\n",
       "      <td>0</td>\n",
       "      <td>151</td>\n",
       "      <td>0</td>\n",
       "      <td>1.8</td>\n",
       "      <td>0</td>\n",
       "      <td>2</td>\n",
       "      <td>0</td>\n",
       "      <td>0</td>\n",
       "    </tr>\n",
       "    <tr>\n",
       "      <th>2</th>\n",
       "      <td>66</td>\n",
       "      <td>0</td>\n",
       "      <td>0</td>\n",
       "      <td>150</td>\n",
       "      <td>226</td>\n",
       "      <td>0</td>\n",
       "      <td>0</td>\n",
       "      <td>114</td>\n",
       "      <td>0</td>\n",
       "      <td>2.6</td>\n",
       "      <td>2</td>\n",
       "      <td>0</td>\n",
       "      <td>0</td>\n",
       "      <td>0</td>\n",
       "    </tr>\n",
       "    <tr>\n",
       "      <th>3</th>\n",
       "      <td>65</td>\n",
       "      <td>1</td>\n",
       "      <td>0</td>\n",
       "      <td>138</td>\n",
       "      <td>282</td>\n",
       "      <td>1</td>\n",
       "      <td>2</td>\n",
       "      <td>174</td>\n",
       "      <td>0</td>\n",
       "      <td>1.4</td>\n",
       "      <td>1</td>\n",
       "      <td>1</td>\n",
       "      <td>0</td>\n",
       "      <td>1</td>\n",
       "    </tr>\n",
       "    <tr>\n",
       "      <th>4</th>\n",
       "      <td>64</td>\n",
       "      <td>1</td>\n",
       "      <td>0</td>\n",
       "      <td>110</td>\n",
       "      <td>211</td>\n",
       "      <td>0</td>\n",
       "      <td>2</td>\n",
       "      <td>144</td>\n",
       "      <td>1</td>\n",
       "      <td>1.8</td>\n",
       "      <td>1</td>\n",
       "      <td>0</td>\n",
       "      <td>0</td>\n",
       "      <td>0</td>\n",
       "    </tr>\n",
       "  </tbody>\n",
       "</table>\n",
       "</div>"
      ],
      "text/plain": [
       "   age  sex  cp  trestbps  chol  fbs  restecg  thalach  exang  oldpeak  slope  \\\n",
       "0   69    1   0       160   234    1        2      131      0      0.1      1   \n",
       "1   69    0   0       140   239    0        0      151      0      1.8      0   \n",
       "2   66    0   0       150   226    0        0      114      0      2.6      2   \n",
       "3   65    1   0       138   282    1        2      174      0      1.4      1   \n",
       "4   64    1   0       110   211    0        2      144      1      1.8      1   \n",
       "\n",
       "   ca  thal  condition  \n",
       "0   1     0          0  \n",
       "1   2     0          0  \n",
       "2   0     0          0  \n",
       "3   1     0          1  \n",
       "4   0     0          0  "
      ]
     },
     "execution_count": 4,
     "metadata": {},
     "output_type": "execute_result"
    }
   ],
   "source": [
    "df_heart_disease.head()"
   ]
  }
 ],
 "metadata": {
  "kernelspec": {
   "display_name": "Python 3 (ipykernel)",
   "language": "python",
   "name": "python3"
  },
  "language_info": {
   "codemirror_mode": {
    "name": "ipython",
    "version": 3
   },
   "file_extension": ".py",
   "mimetype": "text/x-python",
   "name": "python",
   "nbconvert_exporter": "python",
   "pygments_lexer": "ipython3",
   "version": "3.9.7"
  }
 },
 "nbformat": 4,
 "nbformat_minor": 5
}
